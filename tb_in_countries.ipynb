{
 "cells": [
  {
   "cell_type": "markdown",
   "metadata": {},
   "source": [
    "# How does healthcare funding impact tuberculosis outcomes across different countries?\n",
    "\n",
    "TB is seen as one of top deadliest diseases that highly affects people with HIV/AIDS "
   ]
  },
  {
   "cell_type": "code",
   "execution_count": 75,
   "metadata": {},
   "outputs": [],
   "source": [
    "### importing libraries\n",
    "import pandas as pd\n",
    "import numpy as np\n",
    "import matplotlib.pyplot as plt\n",
    "import seaborn as sns\n",
    "import matplotlib.patches as mpatches\n",
    "import plotly.graph_objects as go\n",
    "from sklearn.linear_model import LinearRegression\n",
    "from sklearn.metrics import mean_squared_error, r2_score"
   ]
  },
  {
   "cell_type": "markdown",
   "metadata": {},
   "source": [
    "## Load, Data clean and transform"
   ]
  },
  {
   "cell_type": "code",
   "execution_count": 3,
   "metadata": {},
   "outputs": [],
   "source": [
    "#load dataset\n",
    "tb = pd.read_csv(\"tb incident.csv\", usecols = [0,2,3] ,low_memory = True) #138 obs and 3 cols\n",
    "tb_death = pd.read_csv(\"tb_death_rate.csv\", usecols = [0,1,2,3],low_memory = True) #195 obs and 5 cols\n",
    "tb_funding = pd.read_csv(\"tb_funding.csv\",usecols = [0,1,2,3,5,6,7,8,9,10],low_memory = True,float_precision='round_trip')\n",
    "pd.options.display.float_format = '{:.4f}'.format #to help break scientific values "
   ]
  },
  {
   "cell_type": "code",
   "execution_count": 4,
   "metadata": {},
   "outputs": [
    {
     "data": {
      "text/plain": [
       "Index(['Entity', 'Year', 'est_incidence'], dtype='object')"
      ]
     },
     "execution_count": 4,
     "metadata": {},
     "output_type": "execute_result"
    }
   ],
   "source": [
    "#renaming columns in the dataset\n",
    "tb = tb.rename({'Estimated incidence of all forms of tuberculosis': 'est_incidence'}, axis='columns')\n",
    "tb_death = tb_death.rename({'Estimated mortality from all forms of tuberculosis per 100,000 population': 'est_mortality'}, axis='columns')\n",
    "tb_funding = tb_funding.rename({'Expected funding from the Global Fund to Fight AIDS, Tuberculosis and Malaria': 'exp_global_fund'}, axis='columns')\n",
    "tb.columns"
   ]
  },
  {
   "cell_type": "markdown",
   "metadata": {},
   "source": [
    "from the 'tb' dataset -  renamed Estimated incidence of all forms of tuberculosis to est_incidence\n",
    "from the 'tb_death' dataset - Estimated mortality from all forms of tuberculosis per 100,000 population to est_mortality\n",
    "from the 'tb_funding' dataset - Expected funding from the Global Fund to Fight AIDS, Tuberculosis and Malaria to exp_global_fund\n"
   ]
  },
  {
   "cell_type": "code",
   "execution_count": 5,
   "metadata": {},
   "outputs": [],
   "source": [
    "## unpivot tb_funding dataset to change the shape of the data\n",
    "tb_funding_1= tb_funding.melt(id_vars=[\"Entity\",\"Code\",\"exp_global_fund\",\"Attribute\"], var_name=\"funding_year\", value_name='value')"
   ]
  },
  {
   "cell_type": "code",
   "execution_count": 6,
   "metadata": {},
   "outputs": [],
   "source": [
    "tb_funding_1.dropna(subset=['value'], inplace=True) ## dropped all the NAN's from the value column in the funding dataset"
   ]
  },
  {
   "cell_type": "code",
   "execution_count": 7,
   "metadata": {},
   "outputs": [],
   "source": [
    "tb_funding_1['Group_Index'] = tb_funding_1.groupby('Attribute').cumcount() + 1 #created an index column to aid pivoting the funding dataset \n",
    "pivoted = tb_funding_1.pivot(index='Group_Index', columns='Attribute', values='value').reset_index() # Pivoted the table\n",
    "merged = pd.merge(tb_funding_1, pivoted, on='Group_Index', how='left') # Merged back with original DataFrame to retain data shape"
   ]
  },
  {
   "cell_type": "code",
   "execution_count": 8,
   "metadata": {},
   "outputs": [],
   "source": [
    "tb_funding_2= merged.groupby('Group_Index', as_index=False).first() #grouped merged column by the index to keep only first rows of each entry \n",
    "tb_funding_2= tb_funding_2.drop(columns=['value','Attribute','Group_Index']) #dropped unwanted columns not needed in the dataset"
   ]
  },
  {
   "cell_type": "code",
   "execution_count": 9,
   "metadata": {},
   "outputs": [],
   "source": [
    "#filtered the incedent dataset where the year is 2022 - focus is on 2022 because of the data\n",
    "tb_incedence = tb[tb.Year==2022]"
   ]
  },
  {
   "cell_type": "code",
   "execution_count": 10,
   "metadata": {},
   "outputs": [],
   "source": [
    "#filtered the funding dataset where the year is 2022\n",
    "tb_funds = tb_funding_2[tb_funding_2.funding_year==\"2022\"]"
   ]
  },
  {
   "cell_type": "code",
   "execution_count": 11,
   "metadata": {},
   "outputs": [
    {
     "name": "stdout",
     "output_type": "stream",
     "text": [
      "            Entity Code  exp_global_fund funding_year    Budget gap  \\\n",
      "376  Cote d'Ivoire  CIV     5718268.0000         2022 13713517.0000   \n",
      "407           Laos  LAO     2017956.0000         2022  1552131.0000   \n",
      "441  South America  RUS     6720055.0000         2022 11471744.0000   \n",
      "448       Tanzania  TZA    15030195.0000         2022 16835252.0000   \n",
      "450           Togo  TGO     1306794.0000         2022   379841.0000   \n",
      "\n",
      "     Expected funding from USAID  Expected funding from other grants  \\\n",
      "376                 6804000.0000                              0.0000   \n",
      "407                  512921.0000                         221645.0000   \n",
      "441                       0.0000                              0.0000   \n",
      "448                       0.0000                        2400000.0000   \n",
      "450                       0.0000                              0.0000   \n",
      "\n",
      "     Total expected domestic funding  \n",
      "376                     1053389.0000  \n",
      "407                     4106480.0000  \n",
      "441                  1640201881.0000  \n",
      "448                     1810344.0000  \n",
      "450                    27602345.0000  \n",
      "          Entity Code  exp_global_fund funding_year     Budget gap  \\\n",
      "354  Afghanistan  AFG     6876137.0000         2022   3541871.0000   \n",
      "355       Angola  AGO     4213441.0000         2022  18901125.0000   \n",
      "356    Argentina  ARG      400000.0000         2022         0.0000   \n",
      "357      Armenia  ARM     1319868.0000         2022         0.0000   \n",
      "358         Asia  CIV   450957089.0000         2022 907254171.0000   \n",
      "..           ...  ...              ...          ...            ...   \n",
      "455    Venezuela  VEN     1165328.0000         2022    250000.0000   \n",
      "456      Vietnam  VNM    23928960.0000         2022 106277111.0000   \n",
      "457        Yemen  YEM     1949248.0000         2022   1799809.0000   \n",
      "458       Zambia  ZMB    10095759.0000         2022   5773393.0000   \n",
      "459     Zimbabwe  ZWE     9487457.0000         2022   7808495.0000   \n",
      "\n",
      "     Expected funding from USAID  Expected funding from other grants  \\\n",
      "354                  130717.0000                          88012.0000   \n",
      "355                       0.0000                          11669.0000   \n",
      "356                       0.0000                         673376.0000   \n",
      "357                       0.0000                              0.0000   \n",
      "358                       0.0000                         250000.0000   \n",
      "..                           ...                                 ...   \n",
      "455                       0.0000                         741674.0000   \n",
      "456                       0.0000                         500000.0000   \n",
      "457                       0.0000                         301900.0000   \n",
      "458                 2853739.0000                           3243.0000   \n",
      "459                19705791.0000                              0.0000   \n",
      "\n",
      "     Total expected domestic funding  \n",
      "354                      732626.0000  \n",
      "355                   862153599.0000  \n",
      "356                     5073584.0000  \n",
      "357                     2813795.0000  \n",
      "358                     5861273.0000  \n",
      "..                               ...  \n",
      "455                      567836.0000  \n",
      "456                       65300.0000  \n",
      "457                     1209240.0000  \n",
      "458                      525840.0000  \n",
      "459                   792175512.0000  \n",
      "\n",
      "[101 rows x 8 columns]\n"
     ]
    }
   ],
   "source": [
    "#there are duplicated rows in tb_funds dataset, removing the duplicates in tb_fund\n",
    "duplicate_rows = tb_funds[tb_funds.duplicated(subset=['Code'])]\n",
    "print(duplicate_rows)\n",
    "\n",
    "tb_funds= tb_funds.drop_duplicates(subset=['Code'])\n",
    "print(tb_funds)\n",
    "\n",
    "duplicate_rows = tb_funds[tb_funds.duplicated(subset=['Code'])]"
   ]
  },
  {
   "cell_type": "code",
   "execution_count": 84,
   "metadata": {},
   "outputs": [
    {
     "data": {
      "text/html": [
       "<div>\n",
       "<style scoped>\n",
       "    .dataframe tbody tr th:only-of-type {\n",
       "        vertical-align: middle;\n",
       "    }\n",
       "\n",
       "    .dataframe tbody tr th {\n",
       "        vertical-align: top;\n",
       "    }\n",
       "\n",
       "    .dataframe thead th {\n",
       "        text-align: right;\n",
       "    }\n",
       "</style>\n",
       "<table border=\"1\" class=\"dataframe\">\n",
       "  <thead>\n",
       "    <tr style=\"text-align: right;\">\n",
       "      <th></th>\n",
       "      <th>Entity</th>\n",
       "      <th>Code</th>\n",
       "      <th>exp_global_fund</th>\n",
       "      <th>funding_year</th>\n",
       "      <th>Budget gap</th>\n",
       "      <th>Expected funding from USAID</th>\n",
       "      <th>Expected funding from other grants</th>\n",
       "      <th>Total expected domestic funding</th>\n",
       "      <th>total_expected_funding</th>\n",
       "    </tr>\n",
       "  </thead>\n",
       "  <tbody>\n",
       "    <tr>\n",
       "      <th>354</th>\n",
       "      <td>Afghanistan</td>\n",
       "      <td>AFG</td>\n",
       "      <td>6876137.0000</td>\n",
       "      <td>2022</td>\n",
       "      <td>3541871.0000</td>\n",
       "      <td>130717.0000</td>\n",
       "      <td>88012.0000</td>\n",
       "      <td>732626.0000</td>\n",
       "      <td>7827492</td>\n",
       "    </tr>\n",
       "    <tr>\n",
       "      <th>355</th>\n",
       "      <td>Angola</td>\n",
       "      <td>AGO</td>\n",
       "      <td>4213441.0000</td>\n",
       "      <td>2022</td>\n",
       "      <td>18901125.0000</td>\n",
       "      <td>0.0000</td>\n",
       "      <td>11669.0000</td>\n",
       "      <td>862153599.0000</td>\n",
       "      <td>866378709</td>\n",
       "    </tr>\n",
       "    <tr>\n",
       "      <th>356</th>\n",
       "      <td>Argentina</td>\n",
       "      <td>ARG</td>\n",
       "      <td>400000.0000</td>\n",
       "      <td>2022</td>\n",
       "      <td>0.0000</td>\n",
       "      <td>0.0000</td>\n",
       "      <td>673376.0000</td>\n",
       "      <td>5073584.0000</td>\n",
       "      <td>6146960</td>\n",
       "    </tr>\n",
       "    <tr>\n",
       "      <th>357</th>\n",
       "      <td>Armenia</td>\n",
       "      <td>ARM</td>\n",
       "      <td>1319868.0000</td>\n",
       "      <td>2022</td>\n",
       "      <td>0.0000</td>\n",
       "      <td>0.0000</td>\n",
       "      <td>0.0000</td>\n",
       "      <td>2813795.0000</td>\n",
       "      <td>4133663</td>\n",
       "    </tr>\n",
       "    <tr>\n",
       "      <th>358</th>\n",
       "      <td>Asia</td>\n",
       "      <td>CIV</td>\n",
       "      <td>450957089.0000</td>\n",
       "      <td>2022</td>\n",
       "      <td>907254171.0000</td>\n",
       "      <td>0.0000</td>\n",
       "      <td>250000.0000</td>\n",
       "      <td>5861273.0000</td>\n",
       "      <td>457068362</td>\n",
       "    </tr>\n",
       "    <tr>\n",
       "      <th>359</th>\n",
       "      <td>Bangladesh</td>\n",
       "      <td>BGD</td>\n",
       "      <td>55830653.0000</td>\n",
       "      <td>2022</td>\n",
       "      <td>4106019.0000</td>\n",
       "      <td>0.0000</td>\n",
       "      <td>478149.0000</td>\n",
       "      <td>2399109.0000</td>\n",
       "      <td>58707911</td>\n",
       "    </tr>\n",
       "    <tr>\n",
       "      <th>360</th>\n",
       "      <td>Belize</td>\n",
       "      <td>BLZ</td>\n",
       "      <td>162631.0000</td>\n",
       "      <td>2022</td>\n",
       "      <td>272052.0000</td>\n",
       "      <td>0.0000</td>\n",
       "      <td>0.0000</td>\n",
       "      <td>3233931.0000</td>\n",
       "      <td>3396562</td>\n",
       "    </tr>\n",
       "    <tr>\n",
       "      <th>361</th>\n",
       "      <td>Benin</td>\n",
       "      <td>BEN</td>\n",
       "      <td>2707431.0000</td>\n",
       "      <td>2022</td>\n",
       "      <td>365715.0000</td>\n",
       "      <td>0.0000</td>\n",
       "      <td>0.0000</td>\n",
       "      <td>758730.0000</td>\n",
       "      <td>3466161</td>\n",
       "    </tr>\n",
       "    <tr>\n",
       "      <th>362</th>\n",
       "      <td>Bhutan</td>\n",
       "      <td>BTN</td>\n",
       "      <td>680833.0000</td>\n",
       "      <td>2022</td>\n",
       "      <td>1613163.0000</td>\n",
       "      <td>0.0000</td>\n",
       "      <td>110000.0000</td>\n",
       "      <td>7500000.0000</td>\n",
       "      <td>8290833</td>\n",
       "    </tr>\n",
       "    <tr>\n",
       "      <th>363</th>\n",
       "      <td>Bosnia and Herzegovina</td>\n",
       "      <td>BIH</td>\n",
       "      <td>1667967.0000</td>\n",
       "      <td>2022</td>\n",
       "      <td>0.0000</td>\n",
       "      <td>0.0000</td>\n",
       "      <td>0.0000</td>\n",
       "      <td>8016012.0000</td>\n",
       "      <td>9683979</td>\n",
       "    </tr>\n",
       "  </tbody>\n",
       "</table>\n",
       "</div>"
      ],
      "text/plain": [
       "                     Entity Code  exp_global_fund funding_year     Budget gap  \\\n",
       "354             Afghanistan  AFG     6876137.0000         2022   3541871.0000   \n",
       "355                  Angola  AGO     4213441.0000         2022  18901125.0000   \n",
       "356               Argentina  ARG      400000.0000         2022         0.0000   \n",
       "357                 Armenia  ARM     1319868.0000         2022         0.0000   \n",
       "358                    Asia  CIV   450957089.0000         2022 907254171.0000   \n",
       "359              Bangladesh  BGD    55830653.0000         2022   4106019.0000   \n",
       "360                  Belize  BLZ      162631.0000         2022    272052.0000   \n",
       "361                   Benin  BEN     2707431.0000         2022    365715.0000   \n",
       "362                  Bhutan  BTN      680833.0000         2022   1613163.0000   \n",
       "363  Bosnia and Herzegovina  BIH     1667967.0000         2022         0.0000   \n",
       "\n",
       "     Expected funding from USAID  Expected funding from other grants  \\\n",
       "354                  130717.0000                          88012.0000   \n",
       "355                       0.0000                          11669.0000   \n",
       "356                       0.0000                         673376.0000   \n",
       "357                       0.0000                              0.0000   \n",
       "358                       0.0000                         250000.0000   \n",
       "359                       0.0000                         478149.0000   \n",
       "360                       0.0000                              0.0000   \n",
       "361                       0.0000                              0.0000   \n",
       "362                       0.0000                         110000.0000   \n",
       "363                       0.0000                              0.0000   \n",
       "\n",
       "     Total expected domestic funding  total_expected_funding  \n",
       "354                      732626.0000                 7827492  \n",
       "355                   862153599.0000               866378709  \n",
       "356                     5073584.0000                 6146960  \n",
       "357                     2813795.0000                 4133663  \n",
       "358                     5861273.0000               457068362  \n",
       "359                     2399109.0000                58707911  \n",
       "360                     3233931.0000                 3396562  \n",
       "361                      758730.0000                 3466161  \n",
       "362                     7500000.0000                 8290833  \n",
       "363                     8016012.0000                 9683979  "
      ]
     },
     "execution_count": 84,
     "metadata": {},
     "output_type": "execute_result"
    }
   ],
   "source": [
    "tb_funds.head(10)"
   ]
  },
  {
   "cell_type": "markdown",
   "metadata": {},
   "source": [
    "## Descriptive Analysis"
   ]
  },
  {
   "cell_type": "code",
   "execution_count": 12,
   "metadata": {},
   "outputs": [
    {
     "data": {
      "text/html": [
       "<div>\n",
       "<style scoped>\n",
       "    .dataframe tbody tr th:only-of-type {\n",
       "        vertical-align: middle;\n",
       "    }\n",
       "\n",
       "    .dataframe tbody tr th {\n",
       "        vertical-align: top;\n",
       "    }\n",
       "\n",
       "    .dataframe thead th {\n",
       "        text-align: right;\n",
       "    }\n",
       "</style>\n",
       "<table border=\"1\" class=\"dataframe\">\n",
       "  <thead>\n",
       "    <tr style=\"text-align: right;\">\n",
       "      <th></th>\n",
       "      <th>Year</th>\n",
       "      <th>est_mortality</th>\n",
       "    </tr>\n",
       "  </thead>\n",
       "  <tbody>\n",
       "    <tr>\n",
       "      <th>count</th>\n",
       "      <td>195.0000</td>\n",
       "      <td>195.0000</td>\n",
       "    </tr>\n",
       "    <tr>\n",
       "      <th>mean</th>\n",
       "      <td>2022.0000</td>\n",
       "      <td>16.4154</td>\n",
       "    </tr>\n",
       "    <tr>\n",
       "      <th>std</th>\n",
       "      <td>0.0000</td>\n",
       "      <td>28.7061</td>\n",
       "    </tr>\n",
       "    <tr>\n",
       "      <th>min</th>\n",
       "      <td>2022.0000</td>\n",
       "      <td>0.0000</td>\n",
       "    </tr>\n",
       "    <tr>\n",
       "      <th>25%</th>\n",
       "      <td>2022.0000</td>\n",
       "      <td>0.6900</td>\n",
       "    </tr>\n",
       "    <tr>\n",
       "      <th>50%</th>\n",
       "      <td>2022.0000</td>\n",
       "      <td>4.1000</td>\n",
       "    </tr>\n",
       "    <tr>\n",
       "      <th>75%</th>\n",
       "      <td>2022.0000</td>\n",
       "      <td>18.5000</td>\n",
       "    </tr>\n",
       "    <tr>\n",
       "      <th>max</th>\n",
       "      <td>2022.0000</td>\n",
       "      <td>165.0000</td>\n",
       "    </tr>\n",
       "  </tbody>\n",
       "</table>\n",
       "</div>"
      ],
      "text/plain": [
       "           Year  est_mortality\n",
       "count  195.0000       195.0000\n",
       "mean  2022.0000        16.4154\n",
       "std      0.0000        28.7061\n",
       "min   2022.0000         0.0000\n",
       "25%   2022.0000         0.6900\n",
       "50%   2022.0000         4.1000\n",
       "75%   2022.0000        18.5000\n",
       "max   2022.0000       165.0000"
      ]
     },
     "execution_count": 12,
     "metadata": {},
     "output_type": "execute_result"
    }
   ],
   "source": [
    "tb_death.describe()"
   ]
  },
  {
   "cell_type": "code",
   "execution_count": 13,
   "metadata": {},
   "outputs": [
    {
     "data": {
      "text/html": [
       "<div>\n",
       "<style scoped>\n",
       "    .dataframe tbody tr th:only-of-type {\n",
       "        vertical-align: middle;\n",
       "    }\n",
       "\n",
       "    .dataframe tbody tr th {\n",
       "        vertical-align: top;\n",
       "    }\n",
       "\n",
       "    .dataframe thead th {\n",
       "        text-align: right;\n",
       "    }\n",
       "</style>\n",
       "<table border=\"1\" class=\"dataframe\">\n",
       "  <thead>\n",
       "    <tr style=\"text-align: right;\">\n",
       "      <th></th>\n",
       "      <th>Year</th>\n",
       "      <th>est_incidence</th>\n",
       "    </tr>\n",
       "  </thead>\n",
       "  <tbody>\n",
       "    <tr>\n",
       "      <th>count</th>\n",
       "      <td>222.0000</td>\n",
       "      <td>222.0000</td>\n",
       "    </tr>\n",
       "    <tr>\n",
       "      <th>mean</th>\n",
       "      <td>2022.0000</td>\n",
       "      <td>96.6974</td>\n",
       "    </tr>\n",
       "    <tr>\n",
       "      <th>std</th>\n",
       "      <td>0.0000</td>\n",
       "      <td>135.9679</td>\n",
       "    </tr>\n",
       "    <tr>\n",
       "      <th>min</th>\n",
       "      <td>2022.0000</td>\n",
       "      <td>0.0000</td>\n",
       "    </tr>\n",
       "    <tr>\n",
       "      <th>25%</th>\n",
       "      <td>2022.0000</td>\n",
       "      <td>9.3500</td>\n",
       "    </tr>\n",
       "    <tr>\n",
       "      <th>50%</th>\n",
       "      <td>2022.0000</td>\n",
       "      <td>39.0000</td>\n",
       "    </tr>\n",
       "    <tr>\n",
       "      <th>75%</th>\n",
       "      <td>2022.0000</td>\n",
       "      <td>129.0000</td>\n",
       "    </tr>\n",
       "    <tr>\n",
       "      <th>max</th>\n",
       "      <td>2022.0000</td>\n",
       "      <td>661.0000</td>\n",
       "    </tr>\n",
       "  </tbody>\n",
       "</table>\n",
       "</div>"
      ],
      "text/plain": [
       "           Year  est_incidence\n",
       "count  222.0000       222.0000\n",
       "mean  2022.0000        96.6974\n",
       "std      0.0000       135.9679\n",
       "min   2022.0000         0.0000\n",
       "25%   2022.0000         9.3500\n",
       "50%   2022.0000        39.0000\n",
       "75%   2022.0000       129.0000\n",
       "max   2022.0000       661.0000"
      ]
     },
     "execution_count": 13,
     "metadata": {},
     "output_type": "execute_result"
    }
   ],
   "source": [
    "tb_incedence.describe() "
   ]
  },
  {
   "cell_type": "markdown",
   "metadata": {},
   "source": [
    "###### average estimated cases of TB  in 2022 is 89 cases "
   ]
  },
  {
   "cell_type": "markdown",
   "metadata": {},
   "source": [
    "## Explorary Data Analysis"
   ]
  },
  {
   "cell_type": "markdown",
   "metadata": {},
   "source": [
    "## Countries with higher funding experience a reduction in tuberculosis death rates, compared to countries with lower funding"
   ]
  },
  {
   "cell_type": "code",
   "execution_count": 14,
   "metadata": {},
   "outputs": [],
   "source": [
    "#calculate Total expected funding of each country - using columns of expected funding from USaid,domestic funds, global funds and other grants\n",
    "tb_funds= tb_funds.assign(\n",
    "    total_expected_funding  = \n",
    " tb_funds['exp_global_fund'] + tb_funds['Expected funding from USAID'] +\n",
    " tb_funds['Expected funding from other grants'] + tb_funds['Total expected domestic funding']\n",
    ")    #calculated total expected funding and added it back the tb funds dataset"
   ]
  },
  {
   "cell_type": "code",
   "execution_count": 15,
   "metadata": {},
   "outputs": [],
   "source": [
    "tb_funds[\"total_expected_funding\"]=tb_funds[\"total_expected_funding\"].astype(\"int\")"
   ]
  },
  {
   "cell_type": "code",
   "execution_count": 16,
   "metadata": {},
   "outputs": [
    {
     "data": {
      "text/html": [
       "<div>\n",
       "<style scoped>\n",
       "    .dataframe tbody tr th:only-of-type {\n",
       "        vertical-align: middle;\n",
       "    }\n",
       "\n",
       "    .dataframe tbody tr th {\n",
       "        vertical-align: top;\n",
       "    }\n",
       "\n",
       "    .dataframe thead th {\n",
       "        text-align: right;\n",
       "    }\n",
       "</style>\n",
       "<table border=\"1\" class=\"dataframe\">\n",
       "  <thead>\n",
       "    <tr style=\"text-align: right;\">\n",
       "      <th></th>\n",
       "      <th>total_expected_funding</th>\n",
       "    </tr>\n",
       "    <tr>\n",
       "      <th>Entity</th>\n",
       "      <th></th>\n",
       "    </tr>\n",
       "  </thead>\n",
       "  <tbody>\n",
       "    <tr>\n",
       "      <th>Burundi</th>\n",
       "      <td>1585199426</td>\n",
       "    </tr>\n",
       "    <tr>\n",
       "      <th>Malawi</th>\n",
       "      <td>1459704260</td>\n",
       "    </tr>\n",
       "    <tr>\n",
       "      <th>Angola</th>\n",
       "      <td>866378709</td>\n",
       "    </tr>\n",
       "    <tr>\n",
       "      <th>Zimbabwe</th>\n",
       "      <td>821368760</td>\n",
       "    </tr>\n",
       "    <tr>\n",
       "      <th>Dominican Republic</th>\n",
       "      <td>475326529</td>\n",
       "    </tr>\n",
       "    <tr>\n",
       "      <th>Asia</th>\n",
       "      <td>457068362</td>\n",
       "    </tr>\n",
       "    <tr>\n",
       "      <th>Morocco</th>\n",
       "      <td>161031233</td>\n",
       "    </tr>\n",
       "    <tr>\n",
       "      <th>Mongolia</th>\n",
       "      <td>155777845</td>\n",
       "    </tr>\n",
       "    <tr>\n",
       "      <th>Equatorial Guinea</th>\n",
       "      <td>131831968</td>\n",
       "    </tr>\n",
       "    <tr>\n",
       "      <th>Paraguay</th>\n",
       "      <td>125759391</td>\n",
       "    </tr>\n",
       "  </tbody>\n",
       "</table>\n",
       "</div>"
      ],
      "text/plain": [
       "                    total_expected_funding\n",
       "Entity                                    \n",
       "Burundi                         1585199426\n",
       "Malawi                          1459704260\n",
       "Angola                           866378709\n",
       "Zimbabwe                         821368760\n",
       "Dominican Republic               475326529\n",
       "Asia                             457068362\n",
       "Morocco                          161031233\n",
       "Mongolia                         155777845\n",
       "Equatorial Guinea                131831968\n",
       "Paraguay                         125759391"
      ]
     },
     "execution_count": 16,
     "metadata": {},
     "output_type": "execute_result"
    }
   ],
   "source": [
    "#see top ten countries with a higher expected funding \n",
    "Expected_funding_by_country = tb_funds.groupby('Entity').agg({'total_expected_funding':'sum'}) #grouped total expected funds by countries \n",
    "Expected_funding_by_country.sort_values(by='total_expected_funding', ascending=False).head(10)"
   ]
  },
  {
   "cell_type": "code",
   "execution_count": 17,
   "metadata": {},
   "outputs": [
    {
     "name": "stderr",
     "output_type": "stream",
     "text": [
      "C:\\Users\\debor\\AppData\\Local\\Temp\\ipykernel_7232\\1704373398.py:11: FutureWarning: \n",
      "\n",
      "Passing `palette` without assigning `hue` is deprecated and will be removed in v0.14.0. Assign the `y` variable to `hue` and set `legend=False` for the same effect.\n",
      "\n",
      "  ax = sns.barplot(top_10, x='total_expected_funding',\n"
     ]
    },
    {
     "data": {
      "image/png": "[encoded data removed]",
      "text/plain": [
       "<Figure size 1000x600 with 1 Axes>"
      ]
     },
     "metadata": {},
     "output_type": "display_data"
    }
   ],
   "source": [
    "#plot top ten countries with a higher expected funding \n",
    "top_10 = tb_funds.nlargest(10, 'total_expected_funding').copy()\n",
    "\n",
    "# Identify the maximum value\n",
    "max_value = top_10['total_expected_funding'].max()\n",
    "\n",
    "# Create a new column for color assignment\n",
    "top_10['color'] = top_10['total_expected_funding'].apply(lambda x: 'darkblue' if x == max_value else 'lightblue')\n",
    "\n",
    "plt.figure(figsize=(10, 6))\n",
    "ax = sns.barplot(top_10, x='total_expected_funding',\n",
    "                  y='Entity',\n",
    "                  palette=top_10['color'].to_list())\n",
    "\n",
    "#add title\n",
    "plt.title('Top 10 countries with a higher expected funding', color=\"grey\")\n",
    "\n",
    "# remove x-axis tick labels\n",
    "ax.xaxis.set_ticklabels([])\n",
    "# rename axes labels\n",
    "ax.set(xlabel='Total TB Funds', ylabel='Top 10 Countries')\n",
    "# Remove tick marks\n",
    "plt.tick_params(left=False, bottom=False)  # `left` for y-axis and `bottom` for x-axis\n",
    "\n",
    "# remove border\n",
    "sns.despine(bottom=True);\n",
    "plt.gca().spines['left'].set_visible(False)\n",
    "\n",
    "# Add data labels using ax.patches (each bar is a rectangle in the plot)\n",
    "for patch in ax.patches:\n",
    "    # Get the height of each bar (total_expected_funding)\n",
    "    value = patch.get_width()\n",
    "    ax.text(patch.get_width()+10, patch.get_y() + patch.get_height() / 2,  # Position text next to the bar\n",
    "            f'{value:,.1f}', ha='left', va='center', fontsize=10, color=\"grey\")\n"
   ]
  },
  {
   "cell_type": "markdown",
   "metadata": {},
   "source": [
    "#### Assessing relationships in mortality and funding of countries "
   ]
  },
  {
   "cell_type": "code",
   "execution_count": 18,
   "metadata": {},
   "outputs": [
    {
     "name": "stdout",
     "output_type": "stream",
     "text": [
      "    Code  est_mortality       Entity funding_year  total_expected_funding\n",
      "0    AFG        24.0000  Afghanistan         2022                 7827492\n",
      "1    AGO        62.0000       Angola         2022               866378709\n",
      "2    ARG         1.8000    Argentina         2022                 6146960\n",
      "3    ARM         1.7000      Armenia         2022                 4133663\n",
      "4    CIV        25.0000         Asia         2022               457068362\n",
      "..   ...            ...          ...          ...                     ...\n",
      "96   VEN         3.3000    Venezuela         2022                 2474838\n",
      "97   VNM        14.0000      Vietnam         2022                24494260\n",
      "98   YEM         8.4000        Yemen         2022                 3460388\n",
      "99   ZMB        26.0000       Zambia         2022                13478581\n",
      "100  ZWE        51.0000     Zimbabwe         2022               821368760\n",
      "\n",
      "[101 rows x 5 columns]\n"
     ]
    }
   ],
   "source": [
    "tb_death_for_merge = tb_death[['Code','est_mortality']] \n",
    "tb_funds_for_merge = tb_funds[['Entity','Code','funding_year','total_expected_funding']]\n",
    "merged_h1 = pd.merge(tb_death_for_merge,tb_funds_for_merge, on='Code',how='right')\n",
    "print(merged_h1)"
   ]
  },
  {
   "cell_type": "code",
   "execution_count": 19,
   "metadata": {},
   "outputs": [
    {
     "name": "stdout",
     "output_type": "stream",
     "text": [
      "<class 'pandas.core.frame.DataFrame'>\n",
      "RangeIndex: 101 entries, 0 to 100\n",
      "Data columns (total 5 columns):\n",
      " #   Column                  Non-Null Count  Dtype  \n",
      "---  ------                  --------------  -----  \n",
      " 0   Code                    101 non-null    object \n",
      " 1   est_mortality           100 non-null    float64\n",
      " 2   Entity                  101 non-null    object \n",
      " 3   funding_year            101 non-null    object \n",
      " 4   total_expected_funding  101 non-null    int64  \n",
      "dtypes: float64(1), int64(1), object(3)\n",
      "memory usage: 4.1+ KB\n"
     ]
    }
   ],
   "source": [
    "merged_h1.info()\n",
    "merged_h1[\"total_expected_funding\"]=merged_h1[\"total_expected_funding\"].astype(\"int\")"
   ]
  },
  {
   "cell_type": "code",
   "execution_count": 20,
   "metadata": {},
   "outputs": [
    {
     "name": "stdout",
     "output_type": "stream",
     "text": [
      "Correlation: 0.029616130121853608\n"
     ]
    }
   ],
   "source": [
    "#countries with funding and est mortality\n",
    "# Correlation between Variable1 and Variable2\n",
    "corr_1 = merged_h1['est_mortality'].corr(merged_h1['total_expected_funding'])\n",
    "print(f\"Correlation: {corr_1}\")"
   ]
  },
  {
   "cell_type": "markdown",
   "metadata": {},
   "source": [
    "###### The correlation implies that there is a weak chance countries with high expected funding to cob tb have low mortality rates. In other words, as healthcare funding increases, there might be a slight tendency for TB death rates to reduce"
   ]
  },
  {
   "cell_type": "code",
   "execution_count": null,
   "metadata": {},
   "outputs": [
    {
     "name": "stdout",
     "output_type": "stream",
     "text": [
      "Y-axis range:  266448.0178269429 2397842427.4464965\n"
     ]
    },
    {
     "data": {
      "image/png": "[encoded data removed]",
      "text/plain": [
       "<Figure size 640x480 with 1 Axes>"
      ]
     },
     "metadata": {},
     "output_type": "display_data"
    }
   ],
   "source": [
    "\n",
    "\n",
    "# Create the scatter plot to visualize the relationship\n",
    "sns.scatterplot(data=merged_h1, x='est_mortality', y='total_expected_funding', hue='total_expected_funding')\n",
    "\n",
    "# Adding title and labels\n",
    "plt.title('Countries with higher funding have lower TB mortality rate ')\n",
    "plt.xlabel('Mortality Rate', size=8)\n",
    "plt.ylabel('Total funding', size=8)\n",
    "\n",
    "# Apply logarithmic scale on the Y-axis\n",
    "plt.yscale('log',)\n",
    "\n",
    "\n",
    "# Get the current Y-axis range to position the rectangle\n",
    "ymin, ymax = plt.ylim()\n",
    "\n",
    "# Print ymin and ymax to ensure the rectangle fits within this range\n",
    "print(\"Y-axis range: \", ymin, ymax)\n",
    "\n",
    "# Define rectangle parameters (adjust as needed based on data and plot range)\n",
    "# Here, left and bottom define the starting point of the rectangle, width and height define the size\n",
    "left, bottom, width, height = (2, 2 * 10**8, 70, 3 * 10**9)  # Example values (you can modify them)\n",
    "\n",
    "# Create a rectangle object with transparency and color\n",
    "rect = mpatches.Rectangle((left, bottom), width, height, alpha=0.1, facecolor=\"pink\", linewidth=2)\n",
    "\n",
    "# Add the rectangle to the plot\n",
    "plt.gca().add_patch(rect)\n",
    "\n",
    "# Optionally, add a text annotation inside the rectangle (adjust coordinates as needed)\n",
    "plt.text(left + 2, bottom + height * 0.2, 'Top TB funded countries', fontsize=8, color='grey')\n",
    "\n",
    "# Remove borders around the chart\n",
    "plt.gca().spines['top'].set_visible(False)\n",
    "plt.gca().spines['right'].set_visible(False)\n",
    "\n",
    "# Show the plot\n",
    "plt.show()\n"
   ]
  },
  {
   "cell_type": "markdown",
   "metadata": {},
   "source": [
    "##### More glimpse into relationships "
   ]
  },
  {
   "cell_type": "code",
   "execution_count": 22,
   "metadata": {},
   "outputs": [
    {
     "data": {
      "text/html": [
       "<div>\n",
       "<style scoped>\n",
       "    .dataframe tbody tr th:only-of-type {\n",
       "        vertical-align: middle;\n",
       "    }\n",
       "\n",
       "    .dataframe tbody tr th {\n",
       "        vertical-align: top;\n",
       "    }\n",
       "\n",
       "    .dataframe thead th {\n",
       "        text-align: right;\n",
       "    }\n",
       "</style>\n",
       "<table border=\"1\" class=\"dataframe\">\n",
       "  <thead>\n",
       "    <tr style=\"text-align: right;\">\n",
       "      <th></th>\n",
       "      <th>Entity</th>\n",
       "      <th>Code</th>\n",
       "      <th>exp_global_fund</th>\n",
       "      <th>funding_year</th>\n",
       "      <th>Budget gap</th>\n",
       "      <th>Expected funding from USAID</th>\n",
       "      <th>Expected funding from other grants</th>\n",
       "      <th>Total expected domestic funding</th>\n",
       "      <th>total_expected_funding</th>\n",
       "      <th>Category</th>\n",
       "    </tr>\n",
       "  </thead>\n",
       "  <tbody>\n",
       "    <tr>\n",
       "      <th>0</th>\n",
       "      <td>Burundi</td>\n",
       "      <td>BDI</td>\n",
       "      <td>1488356.0000</td>\n",
       "      <td>2022</td>\n",
       "      <td>8365327.0000</td>\n",
       "      <td>0.0000</td>\n",
       "      <td>0.0000</td>\n",
       "      <td>1583711070.0000</td>\n",
       "      <td>1585199426</td>\n",
       "      <td>Top 5 by funding</td>\n",
       "    </tr>\n",
       "    <tr>\n",
       "      <th>1</th>\n",
       "      <td>Malawi</td>\n",
       "      <td>MWI</td>\n",
       "      <td>5902615.0000</td>\n",
       "      <td>2022</td>\n",
       "      <td>14613982.0000</td>\n",
       "      <td>0.0000</td>\n",
       "      <td>0.0000</td>\n",
       "      <td>1453801645.0000</td>\n",
       "      <td>1459704260</td>\n",
       "      <td>Top 5 by funding</td>\n",
       "    </tr>\n",
       "    <tr>\n",
       "      <th>2</th>\n",
       "      <td>Angola</td>\n",
       "      <td>AGO</td>\n",
       "      <td>4213441.0000</td>\n",
       "      <td>2022</td>\n",
       "      <td>18901125.0000</td>\n",
       "      <td>0.0000</td>\n",
       "      <td>11669.0000</td>\n",
       "      <td>862153599.0000</td>\n",
       "      <td>866378709</td>\n",
       "      <td>Top 5 by funding</td>\n",
       "    </tr>\n",
       "    <tr>\n",
       "      <th>3</th>\n",
       "      <td>Zimbabwe</td>\n",
       "      <td>ZWE</td>\n",
       "      <td>9487457.0000</td>\n",
       "      <td>2022</td>\n",
       "      <td>7808495.0000</td>\n",
       "      <td>19705791.0000</td>\n",
       "      <td>0.0000</td>\n",
       "      <td>792175512.0000</td>\n",
       "      <td>821368760</td>\n",
       "      <td>Top 5 by funding</td>\n",
       "    </tr>\n",
       "    <tr>\n",
       "      <th>4</th>\n",
       "      <td>Dominican Republic</td>\n",
       "      <td>DOM</td>\n",
       "      <td>1071648.0000</td>\n",
       "      <td>2022</td>\n",
       "      <td>851.0000</td>\n",
       "      <td>150000.0000</td>\n",
       "      <td>0.0000</td>\n",
       "      <td>474104881.0000</td>\n",
       "      <td>475326529</td>\n",
       "      <td>Top 5 by funding</td>\n",
       "    </tr>\n",
       "    <tr>\n",
       "      <th>5</th>\n",
       "      <td>Mexico</td>\n",
       "      <td>MEX</td>\n",
       "      <td>0.0000</td>\n",
       "      <td>2022</td>\n",
       "      <td>0.0000</td>\n",
       "      <td>0.0000</td>\n",
       "      <td>0.0000</td>\n",
       "      <td>403041.0000</td>\n",
       "      <td>403041</td>\n",
       "      <td>Bottom 5 by funding</td>\n",
       "    </tr>\n",
       "    <tr>\n",
       "      <th>6</th>\n",
       "      <td>Suriname</td>\n",
       "      <td>SUR</td>\n",
       "      <td>166202.0000</td>\n",
       "      <td>2022</td>\n",
       "      <td>169763.0000</td>\n",
       "      <td>0.0000</td>\n",
       "      <td>642146.0000</td>\n",
       "      <td>101000.0000</td>\n",
       "      <td>909348</td>\n",
       "      <td>Bottom 5 by funding</td>\n",
       "    </tr>\n",
       "    <tr>\n",
       "      <th>7</th>\n",
       "      <td>Bulgaria</td>\n",
       "      <td>BGR</td>\n",
       "      <td>0.0000</td>\n",
       "      <td>2022</td>\n",
       "      <td>0.0000</td>\n",
       "      <td>0.0000</td>\n",
       "      <td>28519.0000</td>\n",
       "      <td>1245367.0000</td>\n",
       "      <td>1273886</td>\n",
       "      <td>Bottom 5 by funding</td>\n",
       "    </tr>\n",
       "    <tr>\n",
       "      <th>8</th>\n",
       "      <td>Marshall Islands</td>\n",
       "      <td>MHL</td>\n",
       "      <td>400000.0000</td>\n",
       "      <td>2022</td>\n",
       "      <td>721473.0000</td>\n",
       "      <td>0.0000</td>\n",
       "      <td>385159.0000</td>\n",
       "      <td>661767.0000</td>\n",
       "      <td>1446926</td>\n",
       "      <td>Bottom 5 by funding</td>\n",
       "    </tr>\n",
       "    <tr>\n",
       "      <th>9</th>\n",
       "      <td>Syria</td>\n",
       "      <td>SYR</td>\n",
       "      <td>1305100.0000</td>\n",
       "      <td>2022</td>\n",
       "      <td>0.0000</td>\n",
       "      <td>39817.0000</td>\n",
       "      <td>0.0000</td>\n",
       "      <td>399875.0000</td>\n",
       "      <td>1744792</td>\n",
       "      <td>Bottom 5 by funding</td>\n",
       "    </tr>\n",
       "  </tbody>\n",
       "</table>\n",
       "</div>"
      ],
      "text/plain": [
       "               Entity Code  exp_global_fund funding_year    Budget gap  \\\n",
       "0             Burundi  BDI     1488356.0000         2022  8365327.0000   \n",
       "1              Malawi  MWI     5902615.0000         2022 14613982.0000   \n",
       "2              Angola  AGO     4213441.0000         2022 18901125.0000   \n",
       "3            Zimbabwe  ZWE     9487457.0000         2022  7808495.0000   \n",
       "4  Dominican Republic  DOM     1071648.0000         2022      851.0000   \n",
       "5              Mexico  MEX           0.0000         2022        0.0000   \n",
       "6            Suriname  SUR      166202.0000         2022   169763.0000   \n",
       "7            Bulgaria  BGR           0.0000         2022        0.0000   \n",
       "8    Marshall Islands  MHL      400000.0000         2022   721473.0000   \n",
       "9               Syria  SYR     1305100.0000         2022        0.0000   \n",
       "\n",
       "   Expected funding from USAID  Expected funding from other grants  \\\n",
       "0                       0.0000                              0.0000   \n",
       "1                       0.0000                              0.0000   \n",
       "2                       0.0000                          11669.0000   \n",
       "3                19705791.0000                              0.0000   \n",
       "4                  150000.0000                              0.0000   \n",
       "5                       0.0000                              0.0000   \n",
       "6                       0.0000                         642146.0000   \n",
       "7                       0.0000                          28519.0000   \n",
       "8                       0.0000                         385159.0000   \n",
       "9                   39817.0000                              0.0000   \n",
       "\n",
       "   Total expected domestic funding  total_expected_funding  \\\n",
       "0                  1583711070.0000              1585199426   \n",
       "1                  1453801645.0000              1459704260   \n",
       "2                   862153599.0000               866378709   \n",
       "3                   792175512.0000               821368760   \n",
       "4                   474104881.0000               475326529   \n",
       "5                      403041.0000                  403041   \n",
       "6                      101000.0000                  909348   \n",
       "7                     1245367.0000                 1273886   \n",
       "8                      661767.0000                 1446926   \n",
       "9                      399875.0000                 1744792   \n",
       "\n",
       "              Category  \n",
       "0     Top 5 by funding  \n",
       "1     Top 5 by funding  \n",
       "2     Top 5 by funding  \n",
       "3     Top 5 by funding  \n",
       "4     Top 5 by funding  \n",
       "5  Bottom 5 by funding  \n",
       "6  Bottom 5 by funding  \n",
       "7  Bottom 5 by funding  \n",
       "8  Bottom 5 by funding  \n",
       "9  Bottom 5 by funding  "
      ]
     },
     "execution_count": 22,
     "metadata": {},
     "output_type": "execute_result"
    }
   ],
   "source": [
    "# Top 5 by 'total_expected_funding'\n",
    "top_5 = tb_funds.nlargest(5, 'total_expected_funding').copy()\n",
    "top_5['Category'] = 'Top 5 by funding'\n",
    "\n",
    "# Bottom 5 by 'total_expected_funding'\n",
    "bottom_5 = tb_funds.nsmallest(5, 'total_expected_funding').copy()\n",
    "bottom_5['Category'] = 'Bottom 5 by funding'\n",
    "\n",
    "# Combine Top 5 and Bottom 5 into a single DataFrame\n",
    "top_bottom_combined = pd.concat([top_5, bottom_5], ignore_index=True)\n",
    "\n",
    "# Display the combined DataFrame\n",
    "top_bottom_combined.head(10)"
   ]
  },
  {
   "cell_type": "code",
   "execution_count": 23,
   "metadata": {},
   "outputs": [],
   "source": [
    "#Merged mortality rates with the fund table\n",
    "#selected a few columns from the mortality dataset to use in analysis\n",
    "merged_data = pd.merge(top_bottom_combined,tb_death_for_merge, on='Code',how='left')\n",
    "#did a left join to include all columns from the left table and matching columns from the right table\n",
    "merged_data = merged_data.sort_values(by='total_expected_funding', ascending=True)\n",
    "# Sort the merged data by 'total_expected_funding' in descending order"
   ]
  },
  {
   "cell_type": "code",
   "execution_count": null,
   "metadata": {},
   "outputs": [
    {
     "data": {
      "image/png": "[encoded data removed]",
      "text/plain": [
       "<Figure size 640x480 with 1 Axes>"
      ]
     },
     "metadata": {},
     "output_type": "display_data"
    }
   ],
   "source": [
    "# Create the scatter plot to visualize the relationship\n",
    "sns.scatterplot(data=merged_data, x='est_mortality', y='total_expected_funding', hue='Category')\n",
    "# Adding title and labels\n",
    "plt.title('1 out 5 bottom funded contries have high mortality ')\n",
    "plt.xlabel('Mortality Rate', size=8)\n",
    "plt.ylabel('Total funding', size=8)\n",
    "\n",
    "# Apply logarithmic scale on the Y-axis\n",
    "plt.yscale('log',)\n",
    "\n",
    "# Remove borders around the chart\n",
    "plt.gca().spines['top'].set_visible(False)\n",
    "plt.gca().spines['right'].set_visible(False)\n",
    "\n",
    "# Show the plot\n",
    "plt.show()"
   ]
  },
  {
   "cell_type": "code",
   "execution_count": 25,
   "metadata": {},
   "outputs": [
    {
     "data": {
      "application/vnd.plotly.v1+json": {
       "config": {
        "plotlyServerURL": "https://plot.ly"
       },
       "data": [
        {
         "marker": {
          "color": "blue"
         },
         "name": "mortality",
         "orientation": "h",
         "text": [
          "Bottom 5 by funding",
          "Bottom 5 by funding",
          "Bottom 5 by funding",
          "Bottom 5 by funding",
          "Bottom 5 by funding",
          "Top 5 by funding",
          "Top 5 by funding",
          "Top 5 by funding",
          "Top 5 by funding",
          "Top 5 by funding"
         ],
         "textposition": "outside",
         "type": "bar",
         "visible": true,
         "x": [
          -3.9,
          -4.1,
          -1.4,
          -109,
          -0.14,
          -4.1,
          -51,
          -62,
          -27,
          -19
         ],
         "y": [
          "Mexico",
          "Suriname",
          "Bulgaria",
          "Marshall Islands",
          "Syria",
          "Dominican Republic",
          "Zimbabwe",
          "Angola",
          "Malawi",
          "Burundi"
         ]
        },
        {
         "marker": {
          "color": "orange"
         },
         "name": "funding",
         "orientation": "h",
         "text": [
          "Bottom 5 by funding",
          "Bottom 5 by funding",
          "Bottom 5 by funding",
          "Bottom 5 by funding",
          "Bottom 5 by funding",
          "Top 5 by funding",
          "Top 5 by funding",
          "Top 5 by funding",
          "Top 5 by funding",
          "Top 5 by funding"
         ],
         "textposition": "outside",
         "type": "bar",
         "visible": true,
         "x": [
          403041,
          909348,
          1273886,
          1446926,
          1744792,
          475326529,
          821368760,
          866378709,
          1459704260,
          1585199426
         ],
         "y": [
          "Mexico",
          "Suriname",
          "Bulgaria",
          "Marshall Islands",
          "Syria",
          "Dominican Republic",
          "Zimbabwe",
          "Angola",
          "Malawi",
          "Burundi"
         ]
        }
       ],
       "layout": {
        "barmode": "relative",
        "legend": {
         "orientation": "h",
         "title": {
          "text": "Metrics"
         },
         "y": -0.2
        },
        "margin": {
         "b": 50,
         "l": 10,
         "r": 50,
         "t": 50
        },
        "plot_bgcolor": "white",
        "template": {
         "data": {
          "bar": [
           {
            "error_x": {
             "color": "#2a3f5f"
            },
            "error_y": {
             "color": "#2a3f5f"
            },
            "marker": {
             "line": {
              "color": "#E5ECF6",
              "width": 0.5
             },
             "pattern": {
              "fillmode": "overlay",
              "size": 10,
              "solidity": 0.2
             }
            },
            "type": "bar"
           }
          ],
          "barpolar": [
           {
            "marker": {
             "line": {
              "color": "#E5ECF6",
              "width": 0.5
             },
             "pattern": {
              "fillmode": "overlay",
              "size": 10,
              "solidity": 0.2
             }
            },
            "type": "barpolar"
           }
          ],
          "carpet": [
           {
            "aaxis": {
             "endlinecolor": "#2a3f5f",
             "gridcolor": "white",
             "linecolor": "white",
             "minorgridcolor": "white",
             "startlinecolor": "#2a3f5f"
            },
            "baxis": {
             "endlinecolor": "#2a3f5f",
             "gridcolor": "white",
             "linecolor": "white",
             "minorgridcolor": "white",
             "startlinecolor": "#2a3f5f"
            },
            "type": "carpet"
           }
          ],
          "choropleth": [
           {
            "colorbar": {
             "outlinewidth": 0,
             "ticks": ""
            },
            "type": "choropleth"
           }
          ],
          "contour": [
           {
            "colorbar": {
             "outlinewidth": 0,
             "ticks": ""
            },
            "colorscale": [
             [
              0,
              "#0d0887"
             ],
             [
              0.1111111111111111,
              "#46039f"
             ],
             [
              0.2222222222222222,
              "#7201a8"
             ],
             [
              0.3333333333333333,
              "#9c179e"
             ],
             [
              0.4444444444444444,
              "#bd3786"
             ],
             [
              0.5555555555555556,
              "#d8576b"
             ],
             [
              0.6666666666666666,
              "#ed7953"
             ],
             [
              0.7777777777777778,
              "#fb9f3a"
             ],
             [
              0.8888888888888888,
              "#fdca26"
             ],
             [
              1,
              "#f0f921"
             ]
            ],
            "type": "contour"
           }
          ],
          "contourcarpet": [
           {
            "colorbar": {
             "outlinewidth": 0,
             "ticks": ""
            },
            "type": "contourcarpet"
           }
          ],
          "heatmap": [
           {
            "colorbar": {
             "outlinewidth": 0,
             "ticks": ""
            },
            "colorscale": [
             [
              0,
              "#0d0887"
             ],
             [
              0.1111111111111111,
              "#46039f"
             ],
             [
              0.2222222222222222,
              "#7201a8"
             ],
             [
              0.3333333333333333,
              "#9c179e"
             ],
             [
              0.4444444444444444,
              "#bd3786"
             ],
             [
              0.5555555555555556,
              "#d8576b"
             ],
             [
              0.6666666666666666,
              "#ed7953"
             ],
             [
              0.7777777777777778,
              "#fb9f3a"
             ],
             [
              0.8888888888888888,
              "#fdca26"
             ],
             [
              1,
              "#f0f921"
             ]
            ],
            "type": "heatmap"
           }
          ],
          "heatmapgl": [
           {
            "colorbar": {
             "outlinewidth": 0,
             "ticks": ""
            },
            "colorscale": [
             [
              0,
              "#0d0887"
             ],
             [
              0.1111111111111111,
              "#46039f"
             ],
             [
              0.2222222222222222,
              "#7201a8"
             ],
             [
              0.3333333333333333,
              "#9c179e"
             ],
             [
              0.4444444444444444,
              "#bd3786"
             ],
             [
              0.5555555555555556,
              "#d8576b"
             ],
             [
              0.6666666666666666,
              "#ed7953"
             ],
             [
              0.7777777777777778,
              "#fb9f3a"
             ],
             [
              0.8888888888888888,
              "#fdca26"
             ],
             [
              1,
              "#f0f921"
             ]
            ],
            "type": "heatmapgl"
           }
          ],
          "histogram": [
           {
            "marker": {
             "pattern": {
              "fillmode": "overlay",
              "size": 10,
              "solidity": 0.2
             }
            },
            "type": "histogram"
           }
          ],
          "histogram2d": [
           {
            "colorbar": {
             "outlinewidth": 0,
             "ticks": ""
            },
            "colorscale": [
             [
              0,
              "#0d0887"
             ],
             [
              0.1111111111111111,
              "#46039f"
             ],
             [
              0.2222222222222222,
              "#7201a8"
             ],
             [
              0.3333333333333333,
              "#9c179e"
             ],
             [
              0.4444444444444444,
              "#bd3786"
             ],
             [
              0.5555555555555556,
              "#d8576b"
             ],
             [
              0.6666666666666666,
              "#ed7953"
             ],
             [
              0.7777777777777778,
              "#fb9f3a"
             ],
             [
              0.8888888888888888,
              "#fdca26"
             ],
             [
              1,
              "#f0f921"
             ]
            ],
            "type": "histogram2d"
           }
          ],
          "histogram2dcontour": [
           {
            "colorbar": {
             "outlinewidth": 0,
             "ticks": ""
            },
            "colorscale": [
             [
              0,
              "#0d0887"
             ],
             [
              0.1111111111111111,
              "#46039f"
             ],
             [
              0.2222222222222222,
              "#7201a8"
             ],
             [
              0.3333333333333333,
              "#9c179e"
             ],
             [
              0.4444444444444444,
              "#bd3786"
             ],
             [
              0.5555555555555556,
              "#d8576b"
             ],
             [
              0.6666666666666666,
              "#ed7953"
             ],
             [
              0.7777777777777778,
              "#fb9f3a"
             ],
             [
              0.8888888888888888,
              "#fdca26"
             ],
             [
              1,
              "#f0f921"
             ]
            ],
            "type": "histogram2dcontour"
           }
          ],
          "mesh3d": [
           {
            "colorbar": {
             "outlinewidth": 0,
             "ticks": ""
            },
            "type": "mesh3d"
           }
          ],
          "parcoords": [
           {
            "line": {
             "colorbar": {
              "outlinewidth": 0,
              "ticks": ""
             }
            },
            "type": "parcoords"
           }
          ],
          "pie": [
           {
            "automargin": true,
            "type": "pie"
           }
          ],
          "scatter": [
           {
            "fillpattern": {
             "fillmode": "overlay",
             "size": 10,
             "solidity": 0.2
            },
            "type": "scatter"
           }
          ],
          "scatter3d": [
           {
            "line": {
             "colorbar": {
              "outlinewidth": 0,
              "ticks": ""
             }
            },
            "marker": {
             "colorbar": {
              "outlinewidth": 0,
              "ticks": ""
             }
            },
            "type": "scatter3d"
           }
          ],
          "scattercarpet": [
           {
            "marker": {
             "colorbar": {
              "outlinewidth": 0,
              "ticks": ""
             }
            },
            "type": "scattercarpet"
           }
          ],
          "scattergeo": [
           {
            "marker": {
             "colorbar": {
              "outlinewidth": 0,
              "ticks": ""
             }
            },
            "type": "scattergeo"
           }
          ],
          "scattergl": [
           {
            "marker": {
             "colorbar": {
              "outlinewidth": 0,
              "ticks": ""
             }
            },
            "type": "scattergl"
           }
          ],
          "scattermapbox": [
           {
            "marker": {
             "colorbar": {
              "outlinewidth": 0,
              "ticks": ""
             }
            },
            "type": "scattermapbox"
           }
          ],
          "scatterpolar": [
           {
            "marker": {
             "colorbar": {
              "outlinewidth": 0,
              "ticks": ""
             }
            },
            "type": "scatterpolar"
           }
          ],
          "scatterpolargl": [
           {
            "marker": {
             "colorbar": {
              "outlinewidth": 0,
              "ticks": ""
             }
            },
            "type": "scatterpolargl"
           }
          ],
          "scatterternary": [
           {
            "marker": {
             "colorbar": {
              "outlinewidth": 0,
              "ticks": ""
             }
            },
            "type": "scatterternary"
           }
          ],
          "surface": [
           {
            "colorbar": {
             "outlinewidth": 0,
             "ticks": ""
            },
            "colorscale": [
             [
              0,
              "#0d0887"
             ],
             [
              0.1111111111111111,
              "#46039f"
             ],
             [
              0.2222222222222222,
              "#7201a8"
             ],
             [
              0.3333333333333333,
              "#9c179e"
             ],
             [
              0.4444444444444444,
              "#bd3786"
             ],
             [
              0.5555555555555556,
              "#d8576b"
             ],
             [
              0.6666666666666666,
              "#ed7953"
             ],
             [
              0.7777777777777778,
              "#fb9f3a"
             ],
             [
              0.8888888888888888,
              "#fdca26"
             ],
             [
              1,
              "#f0f921"
             ]
            ],
            "type": "surface"
           }
          ],
          "table": [
           {
            "cells": {
             "fill": {
              "color": "#EBF0F8"
             },
             "line": {
              "color": "white"
             }
            },
            "header": {
             "fill": {
              "color": "#C8D4E3"
             },
             "line": {
              "color": "white"
             }
            },
            "type": "table"
           }
          ]
         },
         "layout": {
          "annotationdefaults": {
           "arrowcolor": "#2a3f5f",
           "arrowhead": 0,
           "arrowwidth": 1
          },
          "autotypenumbers": "strict",
          "coloraxis": {
           "colorbar": {
            "outlinewidth": 0,
            "ticks": ""
           }
          },
          "colorscale": {
           "diverging": [
            [
             0,
             "#8e0152"
            ],
            [
             0.1,
             "#c51b7d"
            ],
            [
             0.2,
             "#de77ae"
            ],
            [
             0.3,
             "#f1b6da"
            ],
            [
             0.4,
             "#fde0ef"
            ],
            [
             0.5,
             "#f7f7f7"
            ],
            [
             0.6,
             "#e6f5d0"
            ],
            [
             0.7,
             "#b8e186"
            ],
            [
             0.8,
             "#7fbc41"
            ],
            [
             0.9,
             "#4d9221"
            ],
            [
             1,
             "#276419"
            ]
           ],
           "sequential": [
            [
             0,
             "#0d0887"
            ],
            [
             0.1111111111111111,
             "#46039f"
            ],
            [
             0.2222222222222222,
             "#7201a8"
            ],
            [
             0.3333333333333333,
             "#9c179e"
            ],
            [
             0.4444444444444444,
             "#bd3786"
            ],
            [
             0.5555555555555556,
             "#d8576b"
            ],
            [
             0.6666666666666666,
             "#ed7953"
            ],
            [
             0.7777777777777778,
             "#fb9f3a"
            ],
            [
             0.8888888888888888,
             "#fdca26"
            ],
            [
             1,
             "#f0f921"
            ]
           ],
           "sequentialminus": [
            [
             0,
             "#0d0887"
            ],
            [
             0.1111111111111111,
             "#46039f"
            ],
            [
             0.2222222222222222,
             "#7201a8"
            ],
            [
             0.3333333333333333,
             "#9c179e"
            ],
            [
             0.4444444444444444,
             "#bd3786"
            ],
            [
             0.5555555555555556,
             "#d8576b"
            ],
            [
             0.6666666666666666,
             "#ed7953"
            ],
            [
             0.7777777777777778,
             "#fb9f3a"
            ],
            [
             0.8888888888888888,
             "#fdca26"
            ],
            [
             1,
             "#f0f921"
            ]
           ]
          },
          "colorway": [
           "#636efa",
           "#EF553B",
           "#00cc96",
           "#ab63fa",
           "#FFA15A",
           "#19d3f3",
           "#FF6692",
           "#B6E880",
           "#FF97FF",
           "#FECB52"
          ],
          "font": {
           "color": "#2a3f5f"
          },
          "geo": {
           "bgcolor": "white",
           "lakecolor": "white",
           "landcolor": "#E5ECF6",
           "showlakes": true,
           "showland": true,
           "subunitcolor": "white"
          },
          "hoverlabel": {
           "align": "left"
          },
          "hovermode": "closest",
          "mapbox": {
           "style": "light"
          },
          "paper_bgcolor": "white",
          "plot_bgcolor": "#E5ECF6",
          "polar": {
           "angularaxis": {
            "gridcolor": "white",
            "linecolor": "white",
            "ticks": ""
           },
           "bgcolor": "#E5ECF6",
           "radialaxis": {
            "gridcolor": "white",
            "linecolor": "white",
            "ticks": ""
           }
          },
          "scene": {
           "xaxis": {
            "backgroundcolor": "#E5ECF6",
            "gridcolor": "white",
            "gridwidth": 2,
            "linecolor": "white",
            "showbackground": true,
            "ticks": "",
            "zerolinecolor": "white"
           },
           "yaxis": {
            "backgroundcolor": "#E5ECF6",
            "gridcolor": "white",
            "gridwidth": 2,
            "linecolor": "white",
            "showbackground": true,
            "ticks": "",
            "zerolinecolor": "white"
           },
           "zaxis": {
            "backgroundcolor": "#E5ECF6",
            "gridcolor": "white",
            "gridwidth": 2,
            "linecolor": "white",
            "showbackground": true,
            "ticks": "",
            "zerolinecolor": "white"
           }
          },
          "shapedefaults": {
           "line": {
            "color": "#2a3f5f"
           }
          },
          "ternary": {
           "aaxis": {
            "gridcolor": "white",
            "linecolor": "white",
            "ticks": ""
           },
           "baxis": {
            "gridcolor": "white",
            "linecolor": "white",
            "ticks": ""
           },
           "bgcolor": "#E5ECF6",
           "caxis": {
            "gridcolor": "white",
            "linecolor": "white",
            "ticks": ""
           }
          },
          "title": {
           "x": 0.05
          },
          "xaxis": {
           "automargin": true,
           "gridcolor": "white",
           "linecolor": "white",
           "ticks": "",
           "title": {
            "standoff": 15
           },
           "zerolinecolor": "white",
           "zerolinewidth": 2
          },
          "yaxis": {
           "automargin": true,
           "gridcolor": "white",
           "linecolor": "white",
           "ticks": "",
           "title": {
            "standoff": 15
           },
           "zerolinecolor": "white",
           "zerolinewidth": 2
          }
         }
        },
        "title": {
         "text": "Bi-Directional Bar Chart: Mortality Rate vs. Expected Funding"
        },
        "xaxis": {
         "showgrid": false,
         "showticklabels": false,
         "title": {
          "text": " "
         }
        }
       }
      }
     },
     "metadata": {},
     "output_type": "display_data"
    }
   ],
   "source": [
    "# Create the figure\n",
    "fig = go.Figure()\n",
    "\n",
    "# Add mortality rate (left side) as a negative bar for visualization\n",
    "fig.add_trace(go.Bar(\n",
    "    x=[-value for value in merged_data['est_mortality']],  # Negate the values\n",
    "    y=merged_data['Entity'],\n",
    "    name='mortality',\n",
    "    orientation='h',\n",
    "    marker=dict(color='blue'),\n",
    "    text=merged_data['Category'],  # Display the original positive values in the tooltip\n",
    "    textposition='outside',\n",
    "    visible=True\n",
    "))\n",
    "\n",
    "# Add expected funding (right side) as a positive bar\n",
    "fig.add_trace(go.Bar(\n",
    "    x=merged_data['total_expected_funding'],\n",
    "    y=merged_data['Entity'],\n",
    "    name='funding',\n",
    "    orientation='h',\n",
    "    marker=dict(color='orange'),\n",
    "    text=merged_data['Category'],\n",
    "    textposition='outside',\n",
    "    visible=True\n",
    "))\n",
    "\n",
    "# Update layout\n",
    "fig.update_layout(\n",
    "    title='Bi-Directional Bar Chart: Mortality Rate vs. Expected Funding',\n",
    "    xaxis=dict(title=' ', showgrid=False,showticklabels=False,\n",
    "      ),\n",
    "    barmode='relative',  # Bars appear side-by-side\n",
    "    plot_bgcolor='white',\n",
    "    margin=dict(l=10, r=50, t=50, b=50),\n",
    "    legend=dict(title='Metrics', orientation='h', y=-0.2)\n",
    ")\n",
    "\n",
    "# Show the chart\n",
    "fig.show()"
   ]
  },
  {
   "cell_type": "code",
   "execution_count": 71,
   "metadata": {},
   "outputs": [],
   "source": [
    "def histogram_boxplot(feature, figsize=(8,5), bins = None):\n",
    "    \"\"\" Boxplot and histogram combined\n",
    "    feature: 1-d feature array\n",
    "    figsize: size of fig (default (9,8))\n",
    "    bins: number of bins (default None / auto)\n",
    "    \"\"\"\n",
    "    f2, (ax_box2, ax_hist2) = plt.subplots(nrows = 2, # Number of rows of the subplot grid= 2\n",
    "                                           sharex = True, # x-axis will be shared among all subplots\n",
    "                                           gridspec_kw = {\"height_ratios\": (.25, .75)}, \n",
    "                                           figsize = figsize \n",
    "                                           ) # creating the 2 subplots\n",
    "    sns.boxplot(feature, ax=ax_box2, showmeans=True, color='white') # boxplot will be created and a star will indicate the mean value of the column\n",
    "    sns.histplot(feature, kde=F, ax=ax_hist2, bins=bins,palette=\"PuBu\") if bins else sns.histplot(feature, kde=False, ax=ax_hist2) # For histogram\n",
    "    ax_hist2.axvline(np.mean(feature), color='green', linestyle='--') # Add mean to the histogram\n",
    "    ax_hist2.axvline(np.median(feature), color='black', linestyle='-') # Add median to the histogram"
   ]
  },
  {
   "cell_type": "code",
   "execution_count": 72,
   "metadata": {},
   "outputs": [
    {
     "data": {
      "image/png": "[encoded data removed]",
      "text/plain": [
       "<Figure size 800x500 with 2 Axes>"
      ]
     },
     "metadata": {},
     "output_type": "display_data"
    }
   ],
   "source": [
    "histogram_boxplot(merged_h1['est_mortality'])"
   ]
  },
  {
   "cell_type": "code",
   "execution_count": 73,
   "metadata": {},
   "outputs": [
    {
     "data": {
      "image/png": "[encoded data removed]",
      "text/plain": [
       "<Figure size 800x500 with 2 Axes>"
      ]
     },
     "metadata": {},
     "output_type": "display_data"
    }
   ],
   "source": [
    "histogram_boxplot(merged_h1['total_expected_funding'])"
   ]
  },
  {
   "cell_type": "code",
   "execution_count": 79,
   "metadata": {},
   "outputs": [],
   "source": [
    "merged_h1.dropna(subset=['total_expected_funding','est_mortality'], inplace=True)"
   ]
  },
  {
   "cell_type": "code",
   "execution_count": 80,
   "metadata": {},
   "outputs": [
    {
     "name": "stdout",
     "output_type": "stream",
     "text": [
      "Coefficient: 205259.38590188732\n",
      "Intercept: 76410563.08118185\n",
      "Predictions: [81336788.34282716 89136645.00709887 76780029.97580525 76759504.03721507\n",
      " 81542047.72872904]\n"
     ]
    }
   ],
   "source": [
    "# Prepare your data\n",
    "X = merged_h1['est_mortality'].values.reshape(-1, 1)  # Reshaping to make it 2D\n",
    "y = merged_h1['total_expected_funding']\n",
    "\n",
    "# Initialize the model\n",
    "model = LinearRegression()\n",
    "\n",
    "# Fit the model\n",
    "model.fit(X, y)\n",
    "\n",
    "# Get the coefficients\n",
    "print(f\"Coefficient: {model.coef_[0]}\")\n",
    "print(f\"Intercept: {model.intercept_}\")\n",
    "\n",
    "# Predict values using the model\n",
    "y_pred = model.predict(X)\n",
    "\n",
    "# Optionally, you can print predictions or plot the results\n",
    "print(f\"Predictions: {y_pred[:5]}\")\n"
   ]
  },
  {
   "cell_type": "markdown",
   "metadata": {},
   "source": [
    "###### for every 1 unit increase in the est_mortality (estimated mortality), the total_expected_funding (total expected funding) increases by 205,259.39 units\n",
    "###### if est_mortality were zero, the total expected funding would be 76,410,563.08 units. "
   ]
  },
  {
   "cell_type": "code",
   "execution_count": 82,
   "metadata": {},
   "outputs": [
    {
     "data": {
      "image/png": "[encoded data removed]",
      "text/plain": [
       "<Figure size 1000x600 with 1 Axes>"
      ]
     },
     "metadata": {},
     "output_type": "display_data"
    }
   ],
   "source": [
    "# Plotting the data and the regression line\n",
    "plt.figure(figsize=(10, 6))\n",
    "\n",
    "# Scatter plot of actual data points\n",
    "plt.scatter(X, y, color='blue', label='Actual data')\n",
    "\n",
    "# Plot the regression line\n",
    "plt.plot(X, y_pred, color='red', linewidth=2, label='Regression line')\n",
    "\n",
    "# Adding labels and title\n",
    "plt.xlabel('Est. Mortality')\n",
    "plt.ylabel('Total Expected Funding')\n",
    "plt.title('Linear Regression: Mortality vs Expected Funding')\n",
    "\n",
    "# Show legend\n",
    "plt.legend()\n",
    "\n",
    "# Show the plot\n",
    "plt.tight_layout()\n",
    "plt.show()"
   ]
  },
  {
   "cell_type": "markdown",
   "metadata": {},
   "source": [
    "## Countries with less mortality have lesser incedence rates"
   ]
  },
  {
   "cell_type": "code",
   "execution_count": 26,
   "metadata": {},
   "outputs": [
    {
     "name": "stdout",
     "output_type": "stream",
     "text": [
      "          Entity Code  Year  est_mortality  est_incidence\n",
      "0    Afghanistan  AFG  2022        24.0000       185.0000\n",
      "1        Albania  ALB  2022         0.3600        15.0000\n",
      "2        Algeria  DZA  2022         5.1000        51.0000\n",
      "3        Andorra  AND  2022         0.4700         5.8000\n",
      "4         Angola  AGO  2022        62.0000       333.0000\n",
      "..           ...  ...   ...            ...            ...\n",
      "190    Venezuela  VEN  2022         3.3000        46.0000\n",
      "191      Vietnam  VNM  2022        14.0000       176.0000\n",
      "192        Yemen  YEM  2022         8.4000        48.0000\n",
      "193       Zambia  ZMB  2022        26.0000       295.0000\n",
      "194     Zimbabwe  ZWE  2022        51.0000       204.0000\n",
      "\n",
      "[195 rows x 5 columns]\n"
     ]
    }
   ],
   "source": [
    "merged_h2 = pd.merge(tb_death,tb_incedence, on='Entity',how='left')\n",
    "merged_h2.drop(columns=['Year_y'], inplace=True)\n",
    "merged_h2= merged_h2.rename({'Year_x': 'Year'}, axis='columns')\n",
    "print(merged_h2)"
   ]
  },
  {
   "cell_type": "code",
   "execution_count": 27,
   "metadata": {},
   "outputs": [
    {
     "name": "stdout",
     "output_type": "stream",
     "text": [
      "Correlation: 0.8651395234498419\n"
     ]
    }
   ],
   "source": [
    "#countries with funding and est mortality\n",
    "# Correlation between Variable1 and Variable2\n",
    "corr_2 = merged_h2['est_mortality'].corr(merged_h2['est_incidence'])\n",
    "print(f\"Correlation: {corr_2}\")"
   ]
  },
  {
   "cell_type": "code",
   "execution_count": 91,
   "metadata": {},
   "outputs": [
    {
     "name": "stdout",
     "output_type": "stream",
     "text": [
      "Y-axis range:  -8.25 173.25\n"
     ]
    },
    {
     "data": {
      "image/png": "[encoded data removed]",
      "text/plain": [
       "<Figure size 640x480 with 1 Axes>"
      ]
     },
     "metadata": {},
     "output_type": "display_data"
    }
   ],
   "source": [
    "# Create the scatter plot to visualize the relationship\n",
    "sns.scatterplot(data=merged_h2, x='est_incidence', y='est_mortality')\n",
    "# Adding title and labels\n",
    "plt.title('Countries with less mortality have lesser incidence rates')\n",
    "plt.xlabel('TB cases', size=8)\n",
    "plt.ylabel('Mortality Rate', size=8)\n",
    "\n",
    "# Get the current Y-axis range to position the rectangle\n",
    "ymin, ymax = plt.ylim()\n",
    "\n",
    "# Print ymin and ymax to ensure the rectangle fits within this range\n",
    "print(\"Y-axis range: \", ymin, ymax)\n",
    "\n",
    "# Define rectangle parameters (adjust as needed based on data and plot range)\n",
    "# Here, left and bottom define the starting point of the rectangle, width and height define the size\n",
    "left, bottom, width, height = (-1, -1, 100, 30)  # Example values (you can modify them)\n",
    "\n",
    "# Create a rectangle object with transparency and color\n",
    "rect = mpatches.Rectangle((left, bottom), width, height, alpha=0.1, facecolor=\"pink\", linewidth=2)\n",
    "\n",
    "# Add the rectangle to the plot\n",
    "plt.gca().add_patch(rect)\n",
    "\n",
    "# Optionally, add a text annotation inside the rectangle (adjust coordinates as needed)\n",
    "plt.text(left + 2, bottom + height * 0.1, 'lower mortality lesser cases', fontsize=8, color='red')\n",
    "\n",
    "# Remove borders around the chart\n",
    "plt.gca().spines['top'].set_visible(False)\n",
    "plt.gca().spines['right'].set_visible(False)\n",
    "\n",
    "# Show the plot\n",
    "plt.show()"
   ]
  },
  {
   "cell_type": "code",
   "execution_count": 32,
   "metadata": {},
   "outputs": [
    {
     "data": {
      "text/html": [
       "<div>\n",
       "<style scoped>\n",
       "    .dataframe tbody tr th:only-of-type {\n",
       "        vertical-align: middle;\n",
       "    }\n",
       "\n",
       "    .dataframe tbody tr th {\n",
       "        vertical-align: top;\n",
       "    }\n",
       "\n",
       "    .dataframe thead th {\n",
       "        text-align: right;\n",
       "    }\n",
       "</style>\n",
       "<table border=\"1\" class=\"dataframe\">\n",
       "  <thead>\n",
       "    <tr style=\"text-align: right;\">\n",
       "      <th></th>\n",
       "      <th>Entity</th>\n",
       "      <th>Code</th>\n",
       "      <th>Year</th>\n",
       "      <th>est_mortality</th>\n",
       "      <th>est_incidence</th>\n",
       "      <th>Category</th>\n",
       "    </tr>\n",
       "  </thead>\n",
       "  <tbody>\n",
       "    <tr>\n",
       "      <th>0</th>\n",
       "      <td>Lesotho</td>\n",
       "      <td>LSO</td>\n",
       "      <td>2022</td>\n",
       "      <td>165.0000</td>\n",
       "      <td>661.0000</td>\n",
       "      <td>Top 5 by funding</td>\n",
       "    </tr>\n",
       "    <tr>\n",
       "      <th>1</th>\n",
       "      <td>Central African Republic</td>\n",
       "      <td>CAF</td>\n",
       "      <td>2022</td>\n",
       "      <td>156.0000</td>\n",
       "      <td>540.0000</td>\n",
       "      <td>Top 5 by funding</td>\n",
       "    </tr>\n",
       "    <tr>\n",
       "      <th>2</th>\n",
       "      <td>Gabon</td>\n",
       "      <td>GAB</td>\n",
       "      <td>2022</td>\n",
       "      <td>143.0000</td>\n",
       "      <td>509.0000</td>\n",
       "      <td>Top 5 by funding</td>\n",
       "    </tr>\n",
       "    <tr>\n",
       "      <th>3</th>\n",
       "      <td>Guinea-Bissau</td>\n",
       "      <td>GNB</td>\n",
       "      <td>2022</td>\n",
       "      <td>124.0000</td>\n",
       "      <td>361.0000</td>\n",
       "      <td>Top 5 by funding</td>\n",
       "    </tr>\n",
       "    <tr>\n",
       "      <th>4</th>\n",
       "      <td>Marshall Islands</td>\n",
       "      <td>MHL</td>\n",
       "      <td>2022</td>\n",
       "      <td>109.0000</td>\n",
       "      <td>483.0000</td>\n",
       "      <td>Top 5 by funding</td>\n",
       "    </tr>\n",
       "    <tr>\n",
       "      <th>5</th>\n",
       "      <td>San Marino</td>\n",
       "      <td>SMR</td>\n",
       "      <td>2022</td>\n",
       "      <td>0.0000</td>\n",
       "      <td>0.0000</td>\n",
       "      <td>Bottom 5 by funding</td>\n",
       "    </tr>\n",
       "    <tr>\n",
       "      <th>6</th>\n",
       "      <td>Palestine</td>\n",
       "      <td>PSE</td>\n",
       "      <td>2022</td>\n",
       "      <td>0.0500</td>\n",
       "      <td>0.5000</td>\n",
       "      <td>Bottom 5 by funding</td>\n",
       "    </tr>\n",
       "    <tr>\n",
       "      <th>7</th>\n",
       "      <td>Jordan</td>\n",
       "      <td>JOR</td>\n",
       "      <td>2022</td>\n",
       "      <td>0.0900</td>\n",
       "      <td>3.8000</td>\n",
       "      <td>Bottom 5 by funding</td>\n",
       "    </tr>\n",
       "    <tr>\n",
       "      <th>8</th>\n",
       "      <td>Monaco</td>\n",
       "      <td>MCO</td>\n",
       "      <td>2022</td>\n",
       "      <td>0.0900</td>\n",
       "      <td>1.1000</td>\n",
       "      <td>Bottom 5 by funding</td>\n",
       "    </tr>\n",
       "    <tr>\n",
       "      <th>9</th>\n",
       "      <td>Syria</td>\n",
       "      <td>SYR</td>\n",
       "      <td>2022</td>\n",
       "      <td>0.1400</td>\n",
       "      <td>17.0000</td>\n",
       "      <td>Bottom 5 by funding</td>\n",
       "    </tr>\n",
       "  </tbody>\n",
       "</table>\n",
       "</div>"
      ],
      "text/plain": [
       "                     Entity Code  Year  est_mortality  est_incidence  \\\n",
       "0                   Lesotho  LSO  2022       165.0000       661.0000   \n",
       "1  Central African Republic  CAF  2022       156.0000       540.0000   \n",
       "2                     Gabon  GAB  2022       143.0000       509.0000   \n",
       "3             Guinea-Bissau  GNB  2022       124.0000       361.0000   \n",
       "4          Marshall Islands  MHL  2022       109.0000       483.0000   \n",
       "5                San Marino  SMR  2022         0.0000         0.0000   \n",
       "6                 Palestine  PSE  2022         0.0500         0.5000   \n",
       "7                    Jordan  JOR  2022         0.0900         3.8000   \n",
       "8                    Monaco  MCO  2022         0.0900         1.1000   \n",
       "9                     Syria  SYR  2022         0.1400        17.0000   \n",
       "\n",
       "              Category  \n",
       "0     Top 5 by funding  \n",
       "1     Top 5 by funding  \n",
       "2     Top 5 by funding  \n",
       "3     Top 5 by funding  \n",
       "4     Top 5 by funding  \n",
       "5  Bottom 5 by funding  \n",
       "6  Bottom 5 by funding  \n",
       "7  Bottom 5 by funding  \n",
       "8  Bottom 5 by funding  \n",
       "9  Bottom 5 by funding  "
      ]
     },
     "execution_count": 32,
     "metadata": {},
     "output_type": "execute_result"
    }
   ],
   "source": [
    "# Top 5 by 'total_expected_funding'\n",
    "top_5_1 = merged_h2.nlargest(5, 'est_mortality').copy()\n",
    "top_5_1['Category'] = 'Top 5 by funding'\n",
    "\n",
    "# Bottom 5 by 'total_expected_funding'\n",
    "bottom_5_1 = merged_h2.nsmallest(5, 'est_mortality').copy()\n",
    "bottom_5_1['Category'] = 'Bottom 5 by funding'\n",
    "\n",
    "# Combine Top 5 and Bottom 5 into a single DataFrame\n",
    "top_bottom_combined_1= pd.concat([top_5_1, bottom_5_1], ignore_index=True)\n",
    "\n",
    "# Display the combined DataFrame\n",
    "top_bottom_combined_1.head(10)"
   ]
  },
  {
   "cell_type": "code",
   "execution_count": 58,
   "metadata": {},
   "outputs": [
    {
     "name": "stderr",
     "output_type": "stream",
     "text": [
      "c:\\Users\\debor\\AppData\\Local\\Programs\\Python\\Python313\\Lib\\site-packages\\seaborn\\axisgrid.py:718: UserWarning:\n",
      "\n",
      "Using the barplot function without specifying `order` is likely to produce an incorrect plot.\n",
      "\n",
      "c:\\Users\\debor\\AppData\\Local\\Programs\\Python\\Python313\\Lib\\site-packages\\seaborn\\axisgrid.py:723: UserWarning:\n",
      "\n",
      "Using the barplot function without specifying `hue_order` is likely to produce an incorrect plot.\n",
      "\n"
     ]
    },
    {
     "data": {
      "image/png": "[encoded data removed]",
      "text/plain": [
       "<Figure size 1793x400 with 2 Axes>"
      ]
     },
     "metadata": {},
     "output_type": "display_data"
    }
   ],
   "source": [
    "# Define a melted DataFrame for PairGrid\n",
    "melted_data = pd.melt(\n",
    "    top_bottom_combined_1,\n",
    "    id_vars=['Entity','Category'],\n",
    "    value_vars=['est_incidence', 'est_mortality'],\n",
    "    var_name='Metric',\n",
    "    value_name='Value'\n",
    ")\n",
    "\n",
    "# Sort by 'Value' in descending order for each 'Metric'\n",
    "melted_data = melted_data.sort_values([ 'Value'], ascending=[ True])\n",
    "\n",
    "# Create a PairGrid\n",
    "g = sns.FacetGrid(\n",
    "    data=melted_data,\n",
    "    col='Metric',\n",
    "    aspect=2,  # Adjust width\n",
    "    height=4   # Adjust height\n",
    ")\n",
    "\n",
    "# Map barplot to each row\n",
    "g.map(sns.barplot, 'Value', 'Entity','Category',palette=\"coolwarm\")\n",
    "\n",
    "# Add data labels to each bar\n",
    "for ax in g.axes.flat:  # Loop through all axes in the grid\n",
    "    for container in ax.containers:  # Access the bar containers\n",
    "        # Add bar labels\n",
    "        ax.bar_label(\n",
    "            container,\n",
    "            fmt='%.2f',  # Format as integers\n",
    "            label_type='edge',  # Place labels at the edge of bars\n",
    "            fontsize=9,\n",
    "            color='black'\n",
    "        )\n",
    "\n",
    "# Add a legend for the 'Category' variable\n",
    "g.add_legend(title=\"Category\", loc='upper right')\n",
    "\n",
    "# Customize titles and labels\n",
    "\n",
    "titles = ['TB Cases', 'Mortality Rate']\n",
    "for ax, title in zip(g.axes.flat, titles):\n",
    "    ax.set_title(title)\n",
    "\n",
    "# Adjust layout to fit new titles\n",
    "plt.tight_layout()\n",
    "\n",
    "g.set_axis_labels(\" \", \"Entity\")  # Set common axis labels\n",
    "g.set(ylim=(-1, len(melted_data['Entity'].unique())))  # Adjust y-axis limits\n",
    "\n",
    "# Improve layout to avoid overlaps\n",
    "plt.tight_layout()\n",
    "plt.show()"
   ]
  },
  {
   "cell_type": "markdown",
   "metadata": {},
   "source": [
    "add maps"
   ]
  }
 ],
 "metadata": {
  "kernelspec": {
   "display_name": "Python 3",
   "language": "python",
   "name": "python3"
  },
  "language_info": {
   "codemirror_mode": {
    "name": "ipython",
    "version": 3
   },
   "file_extension": ".py",
   "mimetype": "text/x-python",
   "name": "python",
   "nbconvert_exporter": "python",
   "pygments_lexer": "ipython3",
   "version": "3.13.0"
  }
 },
 "nbformat": 4,
 "nbformat_minor": 2
}
